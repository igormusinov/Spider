{
 "cells": [
  {
   "cell_type": "code",
   "execution_count": null,
   "metadata": {
    "pycharm": {
     "is_executing": false
    }
   },
   "outputs": [],
   "source": [
    "import requests\n",
    "import re\n",
    "\n",
    "import json\n",
    "import pandas as pd\n",
    "\n",
    "import os\n",
    "import time\n",
    "import logging"
   ]
  },
  {
   "cell_type": "code",
   "execution_count": null,
   "metadata": {},
   "outputs": [],
   "source": [
    "from IPython.core.display import display, HTML\n",
    "display(HTML(\"<style>.container { width:100% !important; }</style>\"))\n",
    "\n",
    "save_folder = \"vk-api-saved\"\n",
    "os.makedirs(save_folder, exist_ok=True)"
   ]
  },
  {
   "cell_type": "markdown",
   "metadata": {},
   "source": [
    "# VK API WebScraping"
   ]
  },
  {
   "cell_type": "code",
   "execution_count": null,
   "metadata": {},
   "outputs": [],
   "source": [
    "def get_single_leader(uid: str, attempt: int=5) -> dict:\n",
    "    access_token = os.environ[\"ACCESS_TOKEN\"]\n",
    "    url_single_execute = f\"https://api.vk.com/method/execute.singleLeader?user={{}}&access_token={access_token}&v=5.103\"\n",
    "    for i in range(attempt):        \n",
    "        response = requests.get(url_single_execute.format(uid)).json()\n",
    "        if response.get(\"response\"):\n",
    "            return response\n",
    "        print(\"Sleep\")\n",
    "        time.sleep(1)      \n",
    "    raise Exception(f\"After {attempt} attempts no response!!!\")\n",
    "\n",
    "def save_single_leader(uid: str, path: str):\n",
    "    data = get_single_leader(uid)\n",
    "    assert len(data[\"response\"]) == 3\n",
    "    with open(f\"{path}/{uid}.json\", 'w') as f:\n",
    "        f.write(json.dumps(data))"
   ]
  },
  {
   "cell_type": "markdown",
   "metadata": {},
   "source": [
    "# Firstly, check the README"
   ]
  },
  {
   "cell_type": "code",
   "execution_count": null,
   "metadata": {},
   "outputs": [],
   "source": [
    "try:\n",
    "    os.environ[\"ACCESS_TOKEN\"]\n",
    "except:\n",
    "    raise Exception(\"Set ACCESS_TOKEN env\")  \n"
   ]
  },
  {
   "cell_type": "code",
   "execution_count": null,
   "metadata": {},
   "outputs": [],
   "source": [
    "users = pd.read_csv(\"users.csv\")"
   ]
  },
  {
   "cell_type": "markdown",
   "metadata": {},
   "source": [
    "# VK-APP execute stored procedure\n",
    "\n",
    "execute.singleLeader code:\n",
    "\n",
    "###\n",
    "\n",
    "var user = API.users.get({\"user_ids\": [Args.user], \"fields\": [\"photo_id\", \"verified\", \"sex\", \"bdate\", \"city\", \"country\", \"home_town\", \"has_photo\", \"photo_50\", \"photo_100\", \"photo_200_orig\", \"photo_200\", \"photo_400_orig\", \"photo_max\", \"photo_max_orig\", \"online\", \"domain\", \"has_mobile\", \"contacts\", \"site\", \"education\", \"universities\", \"schools\", \"status\", \"last_seen\", \"followers_count\", \"common_count\", \"occupation\", \"nickname\", \"relatives\", \"relation\", \"personal\", \"connections\", \"exports\", \"activities\", \"interests\", \"music\", \"movies\", \"tv\", \"books\", \"games\", \"about\", \"quotes\", \"can_post\", \"can_see_all_posts\", \"can_see_audio\", \"can_write_private_message\", \"can_send_friend_request\", \"is_favorite\", \"is_hidden_from_feed\", \"timezone\", \"screen_name\", \"maiden_name\", \"crop_photo\", \"is_friend\", \"friend_status\", \"career\", \"military\", \"blacklisted\", \"blacklisted_by_me\", \"can_be_invited_group\"]});\n",
    "\n",
    "var groups = API.groups.get({\"user_id\": Args.user, \"extended\": 1});\n",
    "\n",
    "var wall = API.wall.get({\"owner_id\": Args.user, \"extended\": 1});\n",
    "  \n",
    "return [user, groups, wall];"
   ]
  },
  {
   "cell_type": "markdown",
   "metadata": {},
   "source": [
    "# Scrap it harder !!! (Prod section)"
   ]
  },
  {
   "cell_type": "code",
   "execution_count": null,
   "metadata": {},
   "outputs": [],
   "source": [
    "users.uid[:10]"
   ]
  },
  {
   "cell_type": "code",
   "execution_count": null,
   "metadata": {},
   "outputs": [],
   "source": [
    "for uid in users.uid:\n",
    "    print(uid)\n",
    "    debug_data = save_single_leader(str(uid), \"vk-api-saved\")"
   ]
  },
  {
   "cell_type": "markdown",
   "metadata": {},
   "source": [
    "# Test and Debug Section"
   ]
  },
  {
   "cell_type": "code",
   "execution_count": null,
   "metadata": {},
   "outputs": [],
   "source": [
    "uid_test = users.uid[666]\n",
    "print(f\"OMG (Мф. 24:4)\")\n",
    "get_single_leader(uid_test)"
   ]
  },
  {
   "cell_type": "code",
   "execution_count": null,
   "metadata": {},
   "outputs": [],
   "source": [
    "save_single_leader(uid_test, \"vk-api-saved\")"
   ]
  },
  {
   "cell_type": "code",
   "execution_count": null,
   "metadata": {},
   "outputs": [],
   "source": [
    "# os.environ[\"ACCESS_TOKEN\"] = \"<>\"\n",
    "access_token = os.environ[\"ACCESS_TOKEN\"]\n",
    "\n",
    "url_single_execute = f\"https://api.vk.com/method/execute.singleLeader?user={{}}&access_token={access_token}&v=5.103\"\n",
    "url_batch_execute = f\"https://api.vk.com/method/execute.batchLeader?user={{}}&access_token={access_token}&v=5.103\" # TODO\n",
    "requests.get(url_single_execute.format(uid_test)).json()"
   ]
  }
 ],
 "metadata": {
  "kernelspec": {
   "display_name": "Python 3",
   "language": "python",
   "name": "python3"
  },
  "language_info": {
   "codemirror_mode": {
    "name": "ipython",
    "version": 3
   },
   "file_extension": ".py",
   "mimetype": "text/x-python",
   "name": "python",
   "nbconvert_exporter": "python",
   "pygments_lexer": "ipython3",
   "version": "3.7.0"
  },
  "pycharm": {
   "stem_cell": {
    "cell_type": "raw",
    "metadata": {
     "collapsed": false
    },
    "source": []
   }
  }
 },
 "nbformat": 4,
 "nbformat_minor": 1
}
